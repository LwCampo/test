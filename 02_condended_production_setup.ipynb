{
 "cells": [
  {
   "cell_type": "code",
   "execution_count": 1,
   "id": "11f49068",
   "metadata": {},
   "outputs": [],
   "source": [
    "from fastai.vision.all import *\n",
    "from fastai.vision.widgets import *"
   ]
  },
  {
   "cell_type": "markdown",
   "id": "eb85644c",
   "metadata": {},
   "source": [
    "The Amazing Bear Classifier!\n",
    "\n",
    "Recognizes the difference between grizzly bears, black bears and teddy bears."
   ]
  },
  {
   "cell_type": "code",
   "execution_count": 2,
   "id": "a10daa66",
   "metadata": {},
   "outputs": [],
   "source": [
    "learn_inf = load_learner('C:/Users/Trader_II/Documents/Python Scripts/fast.ai/bears/export.pkl', cpu=True)\n",
    "btn_upload = widgets.FileUpload()\n",
    "out_pl = widgets.Output()\n",
    "lbl_pred = widgets.Label()"
   ]
  },
  {
   "cell_type": "code",
   "execution_count": 3,
   "id": "4c4f9fed",
   "metadata": {},
   "outputs": [],
   "source": [
    "def on_click_classify(change):\n",
    "    img = PILImage.create(btn_upload.data[-1])\n",
    "    out_pl.clear_output()\n",
    "    with out_pl: display(img.to_thumb(128,128))\n",
    "    pred,pred_idx,probs = learn_inf.predict(img)\n",
    "    lbl_pred.value = f'Prediction: {pred}; Probability: {probs[pred_idx]:.04f}'"
   ]
  },
  {
   "cell_type": "code",
   "execution_count": 4,
   "id": "5c9e28af",
   "metadata": {},
   "outputs": [],
   "source": [
    "btn_run = widgets.Button(description='Classify your image')\n",
    "btn_run.on_click(on_click_classify)"
   ]
  },
  {
   "cell_type": "code",
   "execution_count": 5,
   "id": "26ceefed",
   "metadata": {},
   "outputs": [
    {
     "data": {
      "application/vnd.jupyter.widget-view+json": {
       "model_id": "4189320aa06c4a4a9d81dc840b986e2d",
       "version_major": 2,
       "version_minor": 0
      },
      "text/plain": [
       "VBox(children=(Label(value='Select your bear!'), FileUpload(value={}, description='Upload'), Button(descriptio…"
      ]
     },
     "metadata": {},
     "output_type": "display_data"
    }
   ],
   "source": [
    "display(VBox([widgets.Label('Select your bear!'),btn_upload, btn_run, out_pl, lbl_pred]))"
   ]
  },
  {
   "cell_type": "markdown",
   "id": "39964ea6",
   "metadata": {},
   "source": [
    "in order to display this simple 'app' as a webpage instead of a jupyter notebook, we need to install voila.\n",
    "Copying these lines into the conda terminal and execute (you could add ! in front if you want to approach the terminal from inside jupyter notebooks):\n",
    "\n",
    "pip install voila\n",
    "\n",
    "jupyter serverextension enable --sys-prefix voila\n",
    "\n",
    "To view your notebook as a Voilà web application, replace the word \"notebooks\" in your browser's URL with: \"voila/render\". You will see the same content as your notebook, but without any of the code cells. The user won't be able to execute code and you can still access the jupyter kernel that processes the python code through a webpage.\n",
    "\n",
    "http://localhost:8888/notebooks/Documents/Python%20Scripts/fast.ai/02_condended_production_setup.ipynb\n",
    "\n",
    "to \n",
    "\n",
    "http://localhost:8888/voila/render/Documents/Python%20Scripts/fast.ai/02_condended_production_setup.ipynb"
   ]
  },
  {
   "cell_type": "markdown",
   "id": "5fa30dfe",
   "metadata": {},
   "source": [
    "you can check documentation on using and creating widgets here"
   ]
  },
  {
   "cell_type": "markdown",
   "id": "4eb2feb9",
   "metadata": {},
   "source": [
    "https://ipywidgets.readthedocs.io/en/latest/examples/Widget%20Basics.html"
   ]
  },
  {
   "cell_type": "markdown",
   "id": "ffbbe4da",
   "metadata": {},
   "source": [
    "in order to install it you can add your notebook to a github repository. Login to github, create repository, add this file."
   ]
  },
  {
   "cell_type": "code",
   "execution_count": null,
   "id": "8b01099f",
   "metadata": {},
   "outputs": [],
   "source": []
  }
 ],
 "metadata": {
  "kernelspec": {
   "display_name": "Python 3 (ipykernel)",
   "language": "python",
   "name": "python3"
  },
  "language_info": {
   "codemirror_mode": {
    "name": "ipython",
    "version": 3
   },
   "file_extension": ".py",
   "mimetype": "text/x-python",
   "name": "python",
   "nbconvert_exporter": "python",
   "pygments_lexer": "ipython3",
   "version": "3.9.7"
  }
 },
 "nbformat": 4,
 "nbformat_minor": 5
}
